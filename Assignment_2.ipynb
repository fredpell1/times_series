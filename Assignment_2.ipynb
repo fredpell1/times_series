{
 "cells": [
  {
   "cell_type": "markdown",
   "metadata": {},
   "source": [
    "# Assignment 2 - MATH60837A\n",
    "William Bourque - 11359215\n",
    "\n",
    "Frederic Pelletier - 11359258"
   ]
  },
  {
   "cell_type": "markdown",
   "metadata": {},
   "source": [
    "## installing dependencies (only needed once)"
   ]
  },
  {
   "cell_type": "code",
   "execution_count": null,
   "metadata": {},
   "outputs": [],
   "source": [
    "%pip install numpy\n",
    "%pip install matplotlib\n",
    "%pip install seaborn\n",
    "%pip install pandas\n",
    "%pip install statsmodels"
   ]
  },
  {
   "cell_type": "markdown",
   "metadata": {},
   "source": [
    "## importing dependencies"
   ]
  },
  {
   "cell_type": "code",
   "execution_count": null,
   "metadata": {},
   "outputs": [],
   "source": [
    "import numpy as np\n",
    "import matplotlib.pyplot as plt\n",
    "import seaborn as sns\n",
    "import pandas as pd\n",
    "from statsmodels.tsa.stattools import acf\n",
    "from statsmodels.stats.diagnostic import acorr_ljungbox\n",
    "from statsmodels.tsa.arima.model import ARIMA\n",
    "from scipy.stats import chi2\n",
    "import warnings\n",
    "warnings.filterwarnings(\"ignore\")"
   ]
  },
  {
   "cell_type": "markdown",
   "metadata": {},
   "source": [
    "## Loading the data"
   ]
  },
  {
   "cell_type": "code",
   "execution_count": null,
   "metadata": {},
   "outputs": [],
   "source": [
    "df = pd.read_csv('./data.csv')\n",
    "df['DATE'] = pd.to_datetime(df['DATE'])\n",
    "df.set_index('DATE', inplace=True)\n",
    "df['log_HP'] = np.log(df['QCAR628BIS'])\n",
    "df['diff_HP'] = df['log_HP'].diff()\n",
    "df = df.dropna()\n",
    "yt = df['diff_HP']\n",
    "df.head()"
   ]
  },
  {
   "cell_type": "markdown",
   "metadata": {},
   "source": [
    "# Part1.Model Selection"
   ]
  },
  {
   "cell_type": "markdown",
   "metadata": {},
   "source": [
    "### 1.a) Estimate all 4 models by maximum likelihood, report the estimation results, and verify if the stationarity conditions and invertibility conditions are satisfied"
   ]
  },
  {
   "cell_type": "code",
   "execution_count": null,
   "metadata": {},
   "outputs": [],
   "source": [
    "def test_stationarity(model: ARIMA):\n",
    "    p,_,q = model.specification.order\n",
    "    r = max(p,q)\n",
    "    phi_matrix = np.zeros((r,r))\n",
    "    phis = model.arparams\n",
    "    phi_matrix[0,:] = np.pad(model.arparams, (0, r - len(phis)), mode='constant')\n",
    "    np.fill_diagonal(phi_matrix[1:p,:p],1)\n",
    "    eigenvalues = np.linalg.eigvals(phi_matrix)\n",
    "    print(phi_matrix)\n",
    "    return np.all(np.abs(eigenvalues) < 1)\n",
    "\n",
    "def test_invertibility(model:ARIMA):\n",
    "    p,_,q = model.specification.order\n",
    "    r = max(p,q)\n",
    "    theta_matrix = np.zeros((r,r))\n",
    "    thetas = model.maparams\n",
    "    theta_matrix[0,:] = np.pad(thetas, (0,r - len(thetas)), mode='constant')\n",
    "    np.fill_diagonal(theta_matrix[1:q,:q],1)\n",
    "    eigenvalues = np.linalg.eigvals(theta_matrix)\n",
    "    print(theta_matrix)\n",
    "    return np.all(np.abs(eigenvalues) < 1)"
   ]
  },
  {
   "cell_type": "code",
   "execution_count": null,
   "metadata": {},
   "outputs": [],
   "source": [
    "#since we will be testing for stationarity and invertibility, we do not force the\n",
    "# algorithm to ensure either of them\n",
    "ar4 = ARIMA(yt, order=(4,0,0), enforce_stationarity=False, enforce_invertibility=False).fit()\n",
    "arma41 = ARIMA(yt, order=(4,0,1),enforce_stationarity=False, enforce_invertibility=False).fit()\n",
    "arma42 = ARIMA(yt, order=(4,0,2),enforce_stationarity=False, enforce_invertibility=False).fit()\n",
    "\n",
    "\n",
    "for name,model in {'ar(4)': ar4,'arma(4,1)': arma41,'arma(4,2)': arma42}.items():\n",
    "    stationary = test_stationarity(model)\n",
    "    invertible = test_invertibility(model)\n",
    "    print(model.summary())\n",
    "    print(f'{name} is {\"stationary\" if stationary else \"not stationary\"}')\n",
    "    print(f'{name} is {\"invertible\" if invertible else \"not invertible\"}')\n",
    "    "
   ]
  },
  {
   "cell_type": "markdown",
   "metadata": {},
   "source": [
    "### Interpretation\n",
    "All models are both stationary and invertible since the eigenvalues of their respective phi and theta matrices all have modules less than 1. However, for all models, some parameters \n",
    "do not have a p-value < 0.05, meaning there is no strong statistical evidence that the parameter should be different than 0"
   ]
  },
  {
   "cell_type": "markdown",
   "metadata": {},
   "source": [
    "### 1.b) Select a model among the 3 using the BIC criterion. Perform likelihood ratio tests (using a 5% significance level) to discriminate between that model and possible alternatives among the remaining 2. Evaluate the white noise hypothesis for the residuals to justify the selection of a final model."
   ]
  },
  {
   "cell_type": "code",
   "execution_count": null,
   "metadata": {},
   "outputs": [],
   "source": [
    "# We evaluate the BIC creterion for each model\n",
    "print(f'BIC for AR(4): {ar4.bic}')\n",
    "print(f'BIC for ARMA(4,1): {arma41.bic}')\n",
    "print(f'BIC for ARMA(4,2): {arma42.bic}')\n"
   ]
  },
  {
   "cell_type": "code",
   "execution_count": null,
   "metadata": {},
   "outputs": [],
   "source": [
    "# We first define a function to help us perform the test\n",
    "def likelihood_ratio_test(l1,l0,k, alpha):\n",
    "    statistic = 2*(l1 - l0)\n",
    "    critical_value = chi2.ppf(1 - alpha, k)\n",
    "    print(f'{statistic=}, {critical_value=}')\n",
    "    print('p-value:',1 - chi2.cdf(statistic, k)) # P(chi2 > statistic)\n",
    "    return statistic > critical_value"
   ]
  },
  {
   "cell_type": "code",
   "execution_count": null,
   "metadata": {},
   "outputs": [],
   "source": [
    "model_from_first_test = None\n",
    "model_from_second_test = None\n",
    "can_reject_null = likelihood_ratio_test(arma41.llf, ar4.llf, 1, 0.05)\n",
    "if can_reject_null:\n",
    "    print('we can reject the null hypothesis, meaning we pick the AMRA(4,1)')\n",
    "    model_from_first_test = arma41\n",
    "else:\n",
    "    print('we cannot reject the null hypothesis, meaning we pick the AR(1)')\n",
    "    model_from_first_test = ar4\n",
    "\n",
    "can_reject_null = likelihood_ratio_test(arma42.llf, model_from_first_test.llf, 1, 0.05)\n",
    "if can_reject_null:\n",
    "    print('we can reject the null hypothesis, meaning we pick the ARMA(4,2)')\n",
    "    model_from_second_test = arma42\n",
    "else:\n",
    "    print('we cannot reject the null hypothesis, meaning we pick the ARMA(4,1)')\n",
    "    model_from_second_test = arma41\n",
    "\n",
    "selected_model = model_from_second_test"
   ]
  },
  {
   "cell_type": "code",
   "execution_count": null,
   "metadata": {},
   "outputs": [],
   "source": [
    "# We perform the Lyung-Box test to make sure the residuals of the model are white noise\n",
    "residuals = selected_model.resid\n",
    "lags = range(1, 19)  # Creat a vector for lags 1 to 18\n",
    "\n",
    "# Perform the Ljung-Box Q-test\n",
    "lbq_result = acorr_ljungbox(residuals, lags=lags, return_df=True)\n",
    "\n",
    "p_values = lbq_result['lb_pvalue']\n",
    "test_statistics = lbq_result['lb_stat']\n",
    "h1 = (p_values < 0.05).astype(int)  # Binary decision rule (1 = reject null hypothesis)\n",
    "\n",
    "# Print the results\n",
    "print(\"Decision Rule (h1):\", h1.values)\n",
    "print(\"P-Values:\", p_values.values)\n",
    "print(\"Test Statistics:\", test_statistics.values)\n",
    "acf(residuals,nlags=20)\n",
    "\n",
    "if h1.mean() == 0:\n",
    "    chosen_model = selected_model"
   ]
  },
  {
   "cell_type": "markdown",
   "metadata": {},
   "source": [
    "### Interpretation \n",
    "Using the BIC creterion the selected model is the ARMA(4,1), because its value of -898.96 was the smallest among the three models. To verify the potency of this result we perform the likelihood ratio test. The first test uses the AR(4) as null hypothesis angainst the ARMA(4,1). The p-value is smaller than the chosen alpha meaning we reject the null and select the ARMA(4,1). The second test uses the selected model from the first test, ARMA(4,1) as the null against the ARMA(4,2). The p-value is greater than the chosen alpha meaning we cannot reject the null and select once again the ARMA(4,1). To verify the white noise hypothesis for the residuals we perform the Lyung-Box test. The test is concluent, we cannot reject the null for the first 18 lags, it suggests that the residuals are white noise and the model can bu useful."
   ]
  },
  {
   "cell_type": "markdown",
   "metadata": {},
   "source": [
    "# Part 2. Dynamic Response and forecasting"
   ]
  },
  {
   "cell_type": "markdown",
   "metadata": {},
   "source": [
    "### 2.a) For the selected model, evaluate the dynamic response for an horizon of 10 periods following a positive shock of size sigma = 1.15 occuring at the first period of the horizon, and explain what happens."
   ]
  },
  {
   "cell_type": "code",
   "execution_count": null,
   "metadata": {},
   "outputs": [],
   "source": [
    "print(chosen_model.params)\n",
    "plt.plot(chosen_model.impulse_responses(10,[1.15]), label='response')\n",
    "plt.xlabel('Periods')\n",
    "plt.ylabel('Response value')\n",
    "plt.title('Dynamic response following a shock of 1.15')\n",
    "plt.legend()"
   ]
  },
  {
   "cell_type": "markdown",
   "metadata": {},
   "source": [
    "### 2.b) For the selected model, evaluate the dynamic response for an horizon of 10 periods following a positive shock of size occurs during 3 consecutive periods of the horizon (t, t+1, t+2). Plot the impulse response function, showing the dynamic response for an horizon of 20 periods following these shocks, and explain what happens."
   ]
  },
  {
   "cell_type": "code",
   "execution_count": null,
   "metadata": {},
   "outputs": [],
   "source": [
    "# Compute impulse response for a single shock in 'y1'\n",
    "irf = chosen_model.impulse_responses(steps=20, impulse=[1.15]) \n",
    "\n",
    "# Create an array to store the cumulative effect of the shocks\n",
    "total_irf = np.zeros_like(irf)\n",
    "\n",
    "# Apply the shocks one period apart\n",
    "for i in range(3):  # Three shocks\n",
    "    total_irf[i:] += np.roll(irf, shift=i)[:len(irf)-i]\n",
    "\n",
    "# Convert to DataFrame for visualization\n",
    "irf_df = pd.DataFrame(total_irf, columns=['y'])\n",
    "\n",
    "# Plot impulse responses\n",
    "plt.plot(irf_df['y'], label=\"Response of y to 3 Consecutive Shocks\")\n",
    "plt.axhline(y=0, linestyle=\"--\", color=\"black\", linewidth=1)\n",
    "plt.xlabel(\"Time\")\n",
    "plt.ylabel(\"Response\")\n",
    "plt.title(\"Impulse Response of ARMA(4,1) with 3 Consecutive Shocks of 1.15\")\n",
    "plt.legend()\n",
    "plt.show()"
   ]
  }
 ],
 "metadata": {
  "kernelspec": {
   "display_name": "Python 3",
   "language": "python",
   "name": "python3"
  },
  "language_info": {
   "codemirror_mode": {
    "name": "ipython",
    "version": 3
   },
   "file_extension": ".py",
   "mimetype": "text/x-python",
   "name": "python",
   "nbconvert_exporter": "python",
   "pygments_lexer": "ipython3",
   "version": "3.13.0"
  }
 },
 "nbformat": 4,
 "nbformat_minor": 2
}
