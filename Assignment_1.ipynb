{
 "cells": [
  {
   "cell_type": "code",
   "execution_count": null,
   "metadata": {},
   "outputs": [],
   "source": [
    "import numpy as np\n",
    "import matplotlib.pyplot as plt\n",
    "import seaborn as sns\n",
    "import pandas as pd\n",
    "from statsmodels.tsa.stattools import acf\n",
    "from statsmodels.stats.diagnostic import acorr_ljungbox\n",
    "\n",
    "df = pd.read_csv(\"/Users/williambourque/Downloads/QCAR628BIS.csv\")\n",
    "df['DATE'] = pd.to_datetime(df['DATE'])\n",
    "df.set_index('DATE', inplace=True)\n",
    "print(df.head())"
   ]
  },
  {
   "cell_type": "markdown",
   "metadata": {},
   "source": [
    "Time Series Econometrics Assignment 1\n",
    "\n",
    "Part 1 - Preliminary Analysis"
   ]
  },
  {
   "cell_type": "markdown",
   "metadata": {},
   "source": [
    "1. a) Plot the log of house prices through time"
   ]
  },
  {
   "cell_type": "code",
   "execution_count": null,
   "metadata": {},
   "outputs": [],
   "source": [
    "df['log_HP'] = np.log(df['QCAR628BIS'])\n",
    "sns.lineplot(data=df, x='DATE', y='log_HP')\n",
    "plt.title(\"log(HP_t)\")\n",
    "plt.show()"
   ]
  },
  {
   "cell_type": "markdown",
   "metadata": {},
   "source": [
    "Interpretation:\n",
    "log(HP_t) - log(HP_{t-1}) represents the percentage of gain (if positive) or loss (if negative) on house prices from time {t-1} to time {t}"
   ]
  },
  {
   "cell_type": "markdown",
   "metadata": {},
   "source": [
    "1. b) Apply the transformation to stationarize z_t and plot the results (determinist trend)"
   ]
  },
  {
   "cell_type": "code",
   "execution_count": null,
   "metadata": {},
   "outputs": [],
   "source": [
    "T = df.shape[0]  # Number of observations\n",
    "trend = np.arange(1, T + 1)  # Linear time trend \n",
    "\n",
    "X = np.column_stack((np.ones(T), trend))  # Column of ones for intercept, trend as second column\n",
    "\n",
    "# Dependent variable\n",
    "Y = np.array(df['log_HP'])  # Assuming log_HP is the dependent variable in the DataFrame\n",
    "\n",
    "# Solve for B using the OLS formula\n",
    "B = np.linalg.lstsq(X, Y, rcond=None)[0]  #OLS solution\n",
    "\n",
    "# Calculate the detrended series\n",
    "df['detrend_HP'] = Y - np.dot(X, B)  \n",
    "\n",
    "print(\"Beta coefficients (B):\", B)\n",
    "print(df.head())\n",
    "\n",
    "# Plot the graph of the determinist trend deviation\n",
    "sns.lineplot(data=df, x='DATE', y='detrend_HP')\n",
    "plt.title('Determinist Trend Deviation')\n",
    "plt.show()"
   ]
  },
  {
   "cell_type": "markdown",
   "metadata": {},
   "source": [
    "1. c) Apply the transformation to stationarize z_t and plot the results (stochastic trend)"
   ]
  },
  {
   "cell_type": "code",
   "execution_count": null,
   "metadata": {},
   "outputs": [],
   "source": [
    "df['diff_HP'] = df['log_HP'].pct_change() # Create a column of the pct change between each periods\n",
    "\n",
    "print(df.head())\n",
    "\n",
    "# Plot of the log avariation assuming a stochastiv trend\n",
    "sns.lineplot(data=df, x='DATE', y='diff_HP')\n",
    "plt.title(\"Difference Series\")\n",
    "plt.show()"
   ]
  },
  {
   "cell_type": "markdown",
   "metadata": {},
   "source": [
    "1. d) Analyze the auto-corelation functions"
   ]
  },
  {
   "cell_type": "code",
   "execution_count": null,
   "metadata": {},
   "outputs": [],
   "source": [
    "acf_vector_deter = acf(df['detrend_HP'], nlags=20) # Autocorrelation determinist\n",
    "print(acf_vector_deter)\n",
    "acf_vector_stocha = acf(df['diff_HP'].iloc[1:], nlags=20) # Autocorrelation stochastic\n",
    "print(acf_vector_stocha)\n",
    "\n",
    "plt.plot(acf_vector_deter) # Plot of determinist autocorrelations\n",
    "plt.show()\n",
    "plt.plot(acf_vector_stocha) # Plot of stochastic autocorrelations\n",
    "plt.show()"
   ]
  },
  {
   "cell_type": "markdown",
   "metadata": {},
   "source": [
    "Interpretation : Stochastic hypothesis is better to to estimate a time series model, the auto-correlation goes to 0 much faster which indicates that there could be white noise. White noise hypothesis is refused in the case od the deterministic trend."
   ]
  },
  {
   "cell_type": "markdown",
   "metadata": {},
   "source": [
    "1. e) Perform Lyung-Box test on the stochastic trend series"
   ]
  },
  {
   "cell_type": "code",
   "execution_count": null,
   "metadata": {},
   "outputs": [],
   "source": [
    "lags = range(1, 19)  # Creat a vector for lags 1 to 18\n",
    "\n",
    "# Perform the Ljung-Box Q-test\n",
    "lbq_result = acorr_ljungbox(df['diff_HP'].iloc[1:], lags=lags, return_df=True)\n",
    "\n",
    "p_values = lbq_result['lb_pvalue']\n",
    "test_statistics = lbq_result['lb_stat']\n",
    "h1 = (p_values < 0.05).astype(int)  # Binary decision rule (1 = reject null hypothesis)\n",
    "\n",
    "# Print the results\n",
    "print(\"Decision Rule (h1):\", h1.values)\n",
    "print(\"P-Values:\", p_values.values)\n",
    "print(\"Test Statistics:\", test_statistics.values)"
   ]
  },
  {
   "cell_type": "markdown",
   "metadata": {},
   "source": [
    "Interpretation : We reject the hypothesis that there is correlation between the observation of the stochastic trend series. We cann conclude that the series is stationnary."
   ]
  }
 ],
 "metadata": {
  "kernelspec": {
   "display_name": "Python 3",
   "language": "python",
   "name": "python3"
  },
  "language_info": {
   "codemirror_mode": {
    "name": "ipython",
    "version": 3
   },
   "file_extension": ".py",
   "mimetype": "text/x-python",
   "name": "python",
   "nbconvert_exporter": "python",
   "pygments_lexer": "ipython3",
   "version": "3.13.0"
  }
 },
 "nbformat": 4,
 "nbformat_minor": 2
}
